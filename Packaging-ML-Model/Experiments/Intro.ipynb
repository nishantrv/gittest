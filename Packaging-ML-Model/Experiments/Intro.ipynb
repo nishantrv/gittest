{
  "metadata": {
    "kernelspec": {
      "name": "python",
      "display_name": "Python (Pyodide)",
      "language": "python"
    },
    "language_info": {
      "codemirror_mode": {
        "name": "python",
        "version": 3
      },
      "file_extension": ".py",
      "mimetype": "text/x-python",
      "name": "python",
      "nbconvert_exporter": "python",
      "pygments_lexer": "ipython3",
      "version": "3.8"
    }
  },
  "nbformat_minor": 5,
  "nbformat": 4,
  "cells": [
    {
      "id": "6e3c54ea-c341-4c4b-a373-9fbf34d61ac4",
      "cell_type": "code",
      "source": "import numpy as np\nimport pandas as pd\nfrom sklearn.impute import SimpleImputer\nfrom sklearn.preprocessing import LabelEncoder, MinMaxScaler",
      "metadata": {
        "trusted": true
      },
      "outputs": [],
      "execution_count": 2
    },
    {
      "id": "6f551e2f-d3b1-47b1-b7ab-8226f34b1af2",
      "cell_type": "code",
      "source": "raw_train = pd.read_csv('train.csv')\nraw_test = pd.read_csv('test.csv')\nraw_train.head()",
      "metadata": {
        "trusted": true
      },
      "outputs": [
        {
          "execution_count": 4,
          "output_type": "execute_result",
          "data": {
            "text/plain": "    Loan_ID Gender Married Dependents     Education Self_Employed  \\\n0  LP001002   Male      No          0      Graduate            No   \n1  LP001003   Male     Yes          1      Graduate            No   \n2  LP001005   Male     Yes          0      Graduate           Yes   \n3  LP001006   Male     Yes          0  Not Graduate            No   \n4  LP001008   Male      No          0      Graduate            No   \n\n   ApplicantIncome  CoapplicantIncome  LoanAmount  Loan_Amount_Term  \\\n0             5849                0.0         NaN             360.0   \n1             4583             1508.0       128.0             360.0   \n2             3000                0.0        66.0             360.0   \n3             2583             2358.0       120.0             360.0   \n4             6000                0.0       141.0             360.0   \n\n   Credit_History Property_Area Loan_Status  \n0             1.0         Urban           Y  \n1             1.0         Rural           N  \n2             1.0         Urban           Y  \n3             1.0         Urban           Y  \n4             1.0         Urban           Y  ",
            "text/html": "<div>\n<style scoped>\n    .dataframe tbody tr th:only-of-type {\n        vertical-align: middle;\n    }\n\n    .dataframe tbody tr th {\n        vertical-align: top;\n    }\n\n    .dataframe thead th {\n        text-align: right;\n    }\n</style>\n<table border=\"1\" class=\"dataframe\">\n  <thead>\n    <tr style=\"text-align: right;\">\n      <th></th>\n      <th>Loan_ID</th>\n      <th>Gender</th>\n      <th>Married</th>\n      <th>Dependents</th>\n      <th>Education</th>\n      <th>Self_Employed</th>\n      <th>ApplicantIncome</th>\n      <th>CoapplicantIncome</th>\n      <th>LoanAmount</th>\n      <th>Loan_Amount_Term</th>\n      <th>Credit_History</th>\n      <th>Property_Area</th>\n      <th>Loan_Status</th>\n    </tr>\n  </thead>\n  <tbody>\n    <tr>\n      <th>0</th>\n      <td>LP001002</td>\n      <td>Male</td>\n      <td>No</td>\n      <td>0</td>\n      <td>Graduate</td>\n      <td>No</td>\n      <td>5849</td>\n      <td>0.0</td>\n      <td>NaN</td>\n      <td>360.0</td>\n      <td>1.0</td>\n      <td>Urban</td>\n      <td>Y</td>\n    </tr>\n    <tr>\n      <th>1</th>\n      <td>LP001003</td>\n      <td>Male</td>\n      <td>Yes</td>\n      <td>1</td>\n      <td>Graduate</td>\n      <td>No</td>\n      <td>4583</td>\n      <td>1508.0</td>\n      <td>128.0</td>\n      <td>360.0</td>\n      <td>1.0</td>\n      <td>Rural</td>\n      <td>N</td>\n    </tr>\n    <tr>\n      <th>2</th>\n      <td>LP001005</td>\n      <td>Male</td>\n      <td>Yes</td>\n      <td>0</td>\n      <td>Graduate</td>\n      <td>Yes</td>\n      <td>3000</td>\n      <td>0.0</td>\n      <td>66.0</td>\n      <td>360.0</td>\n      <td>1.0</td>\n      <td>Urban</td>\n      <td>Y</td>\n    </tr>\n    <tr>\n      <th>3</th>\n      <td>LP001006</td>\n      <td>Male</td>\n      <td>Yes</td>\n      <td>0</td>\n      <td>Not Graduate</td>\n      <td>No</td>\n      <td>2583</td>\n      <td>2358.0</td>\n      <td>120.0</td>\n      <td>360.0</td>\n      <td>1.0</td>\n      <td>Urban</td>\n      <td>Y</td>\n    </tr>\n    <tr>\n      <th>4</th>\n      <td>LP001008</td>\n      <td>Male</td>\n      <td>No</td>\n      <td>0</td>\n      <td>Graduate</td>\n      <td>No</td>\n      <td>6000</td>\n      <td>0.0</td>\n      <td>141.0</td>\n      <td>360.0</td>\n      <td>1.0</td>\n      <td>Urban</td>\n      <td>Y</td>\n    </tr>\n  </tbody>\n</table>\n</div>"
          },
          "metadata": {}
        }
      ],
      "execution_count": 4
    },
    {
      "id": "a1de4ccb-4d74-4f04-ba20-3fc07b6d204d",
      "cell_type": "code",
      "source": "raw_train.nunique()",
      "metadata": {
        "trusted": true
      },
      "outputs": [
        {
          "execution_count": 5,
          "output_type": "execute_result",
          "data": {
            "text/plain": "Loan_ID              614\nGender                 2\nMarried                2\nDependents             4\nEducation              2\nSelf_Employed          2\nApplicantIncome      505\nCoapplicantIncome    287\nLoanAmount           203\nLoan_Amount_Term      10\nCredit_History         2\nProperty_Area          3\nLoan_Status            2\ndtype: int64"
          },
          "metadata": {}
        }
      ],
      "execution_count": 5
    },
    {
      "id": "07470f98-56fa-402c-9ab2-e7db38dbffd0",
      "cell_type": "code",
      "source": "raw_train.shape",
      "metadata": {
        "trusted": true
      },
      "outputs": [
        {
          "execution_count": 6,
          "output_type": "execute_result",
          "data": {
            "text/plain": "(614, 13)"
          },
          "metadata": {}
        }
      ],
      "execution_count": 6
    },
    {
      "id": "1929d508-eeaa-4ffc-85f2-28bc868cfa0a",
      "cell_type": "code",
      "source": "train_df = raw_train.copy()\ntest_df = raw_test.copy()",
      "metadata": {
        "trusted": true
      },
      "outputs": [],
      "execution_count": 7
    },
    {
      "id": "a2120e6e-d228-4011-b31c-34e5928c749d",
      "cell_type": "code",
      "source": "train_df.info()",
      "metadata": {
        "trusted": true
      },
      "outputs": [
        {
          "name": "stdout",
          "text": "<class 'pandas.core.frame.DataFrame'>\nRangeIndex: 614 entries, 0 to 613\nData columns (total 13 columns):\n #   Column             Non-Null Count  Dtype  \n---  ------             --------------  -----  \n 0   Loan_ID            614 non-null    object \n 1   Gender             601 non-null    object \n 2   Married            611 non-null    object \n 3   Dependents         599 non-null    object \n 4   Education          614 non-null    object \n 5   Self_Employed      582 non-null    object \n 6   ApplicantIncome    614 non-null    int64  \n 7   CoapplicantIncome  614 non-null    float64\n 8   LoanAmount         592 non-null    float64\n 9   Loan_Amount_Term   600 non-null    float64\n 10  Credit_History     564 non-null    float64\n 11  Property_Area      614 non-null    object \n 12  Loan_Status        614 non-null    object \ndtypes: float64(4), int64(1), object(8)\nmemory usage: 43.2+ KB\n",
          "output_type": "stream"
        }
      ],
      "execution_count": 8
    },
    {
      "id": "d286a5b0-e744-4fc1-ab98-beed2c76a4fb",
      "cell_type": "code",
      "source": "test_df.info()",
      "metadata": {
        "trusted": true
      },
      "outputs": [
        {
          "name": "stdout",
          "text": "<class 'pandas.core.frame.DataFrame'>\nRangeIndex: 362 entries, 0 to 361\nData columns (total 12 columns):\n #   Column             Non-Null Count  Dtype  \n---  ------             --------------  -----  \n 0   Loan_ID            362 non-null    object \n 1   Gender             351 non-null    object \n 2   Married            362 non-null    object \n 3   Dependents         353 non-null    object \n 4   Education          362 non-null    object \n 5   Self_Employed      339 non-null    object \n 6   ApplicantIncome    362 non-null    int64  \n 7   CoapplicantIncome  362 non-null    int64  \n 8   LoanAmount         362 non-null    int64  \n 9   Loan_Amount_Term   356 non-null    float64\n 10  Credit_History     333 non-null    float64\n 11  Property_Area      362 non-null    object \ndtypes: float64(2), int64(3), object(7)\nmemory usage: 24.1+ KB\n",
          "output_type": "stream"
        }
      ],
      "execution_count": 9
    },
    {
      "id": "2df57731-504e-453d-a399-d6ef4e33e44d",
      "cell_type": "code",
      "source": "train_y = train_df['Loan_Status'].copy()",
      "metadata": {
        "trusted": true
      },
      "outputs": [],
      "execution_count": 10
    },
    {
      "id": "d60920b6-f56e-41fb-91ba-1359b53b1c2c",
      "cell_type": "code",
      "source": "train_y",
      "metadata": {
        "trusted": true
      },
      "outputs": [
        {
          "execution_count": 11,
          "output_type": "execute_result",
          "data": {
            "text/plain": "0      Y\n1      N\n2      Y\n3      Y\n4      Y\n      ..\n609    Y\n610    Y\n611    Y\n612    Y\n613    N\nName: Loan_Status, Length: 614, dtype: object"
          },
          "metadata": {}
        }
      ],
      "execution_count": 11
    },
    {
      "id": "75f19b70-b25a-46d4-aa47-643ad8e0cf71",
      "cell_type": "code",
      "source": "train_df.drop(columns = ['Loan_Status'],inplace = True)",
      "metadata": {
        "trusted": true
      },
      "outputs": [],
      "execution_count": 12
    },
    {
      "id": "e7708eaf-20eb-4574-916c-e932da3cccb4",
      "cell_type": "code",
      "source": "train_df.info()",
      "metadata": {
        "trusted": true
      },
      "outputs": [
        {
          "name": "stdout",
          "text": "<class 'pandas.core.frame.DataFrame'>\nRangeIndex: 614 entries, 0 to 613\nData columns (total 12 columns):\n #   Column             Non-Null Count  Dtype  \n---  ------             --------------  -----  \n 0   Loan_ID            614 non-null    object \n 1   Gender             601 non-null    object \n 2   Married            611 non-null    object \n 3   Dependents         599 non-null    object \n 4   Education          614 non-null    object \n 5   Self_Employed      582 non-null    object \n 6   ApplicantIncome    614 non-null    int64  \n 7   CoapplicantIncome  614 non-null    float64\n 8   LoanAmount         592 non-null    float64\n 9   Loan_Amount_Term   600 non-null    float64\n 10  Credit_History     564 non-null    float64\n 11  Property_Area      614 non-null    object \ndtypes: float64(4), int64(1), object(7)\nmemory usage: 40.8+ KB\n",
          "output_type": "stream"
        }
      ],
      "execution_count": 13
    },
    {
      "id": "e822a497-fb63-41ad-89db-b58c4cb4b44b",
      "cell_type": "code",
      "source": "# Dropping the unncessary columns\n\ntrain_df.drop(columns = 'Loan_ID',inplace =  True)\ntest_df.drop(columns = 'Loan_ID',inplace = True)",
      "metadata": {
        "trusted": true
      },
      "outputs": [],
      "execution_count": 15
    },
    {
      "id": "bc8616ce-9bbc-4ff0-a36a-8bbe917b1455",
      "cell_type": "code",
      "source": "train_df.columns",
      "metadata": {
        "trusted": true
      },
      "outputs": [
        {
          "execution_count": 16,
          "output_type": "execute_result",
          "data": {
            "text/plain": "Index(['Gender', 'Married', 'Dependents', 'Education', 'Self_Employed',\n       'ApplicantIncome', 'CoapplicantIncome', 'LoanAmount',\n       'Loan_Amount_Term', 'Credit_History', 'Property_Area'],\n      dtype='object')"
          },
          "metadata": {}
        }
      ],
      "execution_count": 16
    },
    {
      "id": "74db74c7-b9b4-4426-b9b1-08a1be84f25e",
      "cell_type": "code",
      "source": "#Duplicates - no duplicates\ntrain_df[train_df.duplicated()]",
      "metadata": {
        "trusted": true
      },
      "outputs": [
        {
          "execution_count": 18,
          "output_type": "execute_result",
          "data": {
            "text/plain": "Empty DataFrame\nColumns: [Gender, Married, Dependents, Education, Self_Employed, ApplicantIncome, CoapplicantIncome, LoanAmount, Loan_Amount_Term, Credit_History, Property_Area]\nIndex: []",
            "text/html": "<div>\n<style scoped>\n    .dataframe tbody tr th:only-of-type {\n        vertical-align: middle;\n    }\n\n    .dataframe tbody tr th {\n        vertical-align: top;\n    }\n\n    .dataframe thead th {\n        text-align: right;\n    }\n</style>\n<table border=\"1\" class=\"dataframe\">\n  <thead>\n    <tr style=\"text-align: right;\">\n      <th></th>\n      <th>Gender</th>\n      <th>Married</th>\n      <th>Dependents</th>\n      <th>Education</th>\n      <th>Self_Employed</th>\n      <th>ApplicantIncome</th>\n      <th>CoapplicantIncome</th>\n      <th>LoanAmount</th>\n      <th>Loan_Amount_Term</th>\n      <th>Credit_History</th>\n      <th>Property_Area</th>\n    </tr>\n  </thead>\n  <tbody>\n  </tbody>\n</table>\n</div>"
          },
          "metadata": {}
        }
      ],
      "execution_count": 18
    },
    {
      "id": "4da5458d-d8c2-4c13-8ded-765b47da445d",
      "cell_type": "code",
      "source": "test_df[test_df.duplicated()]",
      "metadata": {
        "trusted": true
      },
      "outputs": [
        {
          "execution_count": 19,
          "output_type": "execute_result",
          "data": {
            "text/plain": "    Gender Married Dependents Education Self_Employed  ApplicantIncome  \\\n192   Male      No          0  Graduate           Yes             5833   \n\n     CoapplicantIncome  LoanAmount  Loan_Amount_Term  Credit_History  \\\n192                  0         116             360.0             1.0   \n\n    Property_Area  \n192         Urban  ",
            "text/html": "<div>\n<style scoped>\n    .dataframe tbody tr th:only-of-type {\n        vertical-align: middle;\n    }\n\n    .dataframe tbody tr th {\n        vertical-align: top;\n    }\n\n    .dataframe thead th {\n        text-align: right;\n    }\n</style>\n<table border=\"1\" class=\"dataframe\">\n  <thead>\n    <tr style=\"text-align: right;\">\n      <th></th>\n      <th>Gender</th>\n      <th>Married</th>\n      <th>Dependents</th>\n      <th>Education</th>\n      <th>Self_Employed</th>\n      <th>ApplicantIncome</th>\n      <th>CoapplicantIncome</th>\n      <th>LoanAmount</th>\n      <th>Loan_Amount_Term</th>\n      <th>Credit_History</th>\n      <th>Property_Area</th>\n    </tr>\n  </thead>\n  <tbody>\n    <tr>\n      <th>192</th>\n      <td>Male</td>\n      <td>No</td>\n      <td>0</td>\n      <td>Graduate</td>\n      <td>Yes</td>\n      <td>5833</td>\n      <td>0</td>\n      <td>116</td>\n      <td>360.0</td>\n      <td>1.0</td>\n      <td>Urban</td>\n    </tr>\n  </tbody>\n</table>\n</div>"
          },
          "metadata": {}
        }
      ],
      "execution_count": 19
    },
    {
      "id": "f72b65f2-1288-4acd-a6dd-5a56e1a9c9b9",
      "cell_type": "code",
      "source": "test_df.drop_duplicates(inplace=True)",
      "metadata": {
        "trusted": true
      },
      "outputs": [],
      "execution_count": 20
    },
    {
      "id": "5c860973-cf40-4e80-935c-d2a8031ec272",
      "cell_type": "code",
      "source": "test_df[test_df.duplicated()]",
      "metadata": {
        "trusted": true
      },
      "outputs": [
        {
          "execution_count": 21,
          "output_type": "execute_result",
          "data": {
            "text/plain": "Empty DataFrame\nColumns: [Gender, Married, Dependents, Education, Self_Employed, ApplicantIncome, CoapplicantIncome, LoanAmount, Loan_Amount_Term, Credit_History, Property_Area]\nIndex: []",
            "text/html": "<div>\n<style scoped>\n    .dataframe tbody tr th:only-of-type {\n        vertical-align: middle;\n    }\n\n    .dataframe tbody tr th {\n        vertical-align: top;\n    }\n\n    .dataframe thead th {\n        text-align: right;\n    }\n</style>\n<table border=\"1\" class=\"dataframe\">\n  <thead>\n    <tr style=\"text-align: right;\">\n      <th></th>\n      <th>Gender</th>\n      <th>Married</th>\n      <th>Dependents</th>\n      <th>Education</th>\n      <th>Self_Employed</th>\n      <th>ApplicantIncome</th>\n      <th>CoapplicantIncome</th>\n      <th>LoanAmount</th>\n      <th>Loan_Amount_Term</th>\n      <th>Credit_History</th>\n      <th>Property_Area</th>\n    </tr>\n  </thead>\n  <tbody>\n  </tbody>\n</table>\n</div>"
          },
          "metadata": {}
        }
      ],
      "execution_count": 21
    },
    {
      "id": "8c82dd82-a1f1-4cd5-815d-2da2e20e97c4",
      "cell_type": "code",
      "source": "#Missing Value Analysis\n\ntrain_df.isna().sum()",
      "metadata": {
        "trusted": true
      },
      "outputs": [
        {
          "execution_count": 22,
          "output_type": "execute_result",
          "data": {
            "text/plain": "Gender               13\nMarried               3\nDependents           15\nEducation             0\nSelf_Employed        32\nApplicantIncome       0\nCoapplicantIncome     0\nLoanAmount           22\nLoan_Amount_Term     14\nCredit_History       50\nProperty_Area         0\ndtype: int64"
          },
          "metadata": {}
        }
      ],
      "execution_count": 22
    },
    {
      "id": "20eb85c8-7ef0-4571-92da-0347064bd676",
      "cell_type": "code",
      "source": "#  Numerical --> Mean\n# Categorical --> Mode\n\ntrain_df.info()",
      "metadata": {
        "trusted": true
      },
      "outputs": [
        {
          "name": "stdout",
          "text": "<class 'pandas.core.frame.DataFrame'>\nRangeIndex: 614 entries, 0 to 613\nData columns (total 11 columns):\n #   Column             Non-Null Count  Dtype  \n---  ------             --------------  -----  \n 0   Gender             601 non-null    object \n 1   Married            611 non-null    object \n 2   Dependents         599 non-null    object \n 3   Education          614 non-null    object \n 4   Self_Employed      582 non-null    object \n 5   ApplicantIncome    614 non-null    int64  \n 6   CoapplicantIncome  614 non-null    float64\n 7   LoanAmount         592 non-null    float64\n 8   Loan_Amount_Term   600 non-null    float64\n 9   Credit_History     564 non-null    float64\n 10  Property_Area      614 non-null    object \ndtypes: float64(4), int64(1), object(6)\nmemory usage: 38.4+ KB\n",
          "output_type": "stream"
        }
      ],
      "execution_count": 23
    },
    {
      "id": "059bc157-5200-4e2e-8c96-8a31a8cc2b5a",
      "cell_type": "code",
      "source": "train_df.columns",
      "metadata": {
        "trusted": true
      },
      "outputs": [
        {
          "execution_count": 24,
          "output_type": "execute_result",
          "data": {
            "text/plain": "Index(['Gender', 'Married', 'Dependents', 'Education', 'Self_Employed',\n       'ApplicantIncome', 'CoapplicantIncome', 'LoanAmount',\n       'Loan_Amount_Term', 'Credit_History', 'Property_Area'],\n      dtype='object')"
          },
          "metadata": {}
        }
      ],
      "execution_count": 24
    },
    {
      "id": "279449f7-ac71-4f19-b8ae-e1258b63d68e",
      "cell_type": "code",
      "source": "num_cols = ['ApplicantIncome', 'CoapplicantIncome', 'LoanAmount','Loan_Amount_Term']\ncat_cols = ['Gender', 'Married', 'Dependents', 'Education', 'Self_Employed','Credit_History', 'Property_Area']",
      "metadata": {
        "trusted": true
      },
      "outputs": [],
      "execution_count": 25
    },
    {
      "id": "8605df98-2fe4-4335-881e-955244643154",
      "cell_type": "code",
      "source": "cat_imputer = SimpleImputer(strategy='most_frequent')\ncat_imputer.fit(train_df[cat_cols])\ntrain_df[cat_cols] = cat_imputer.transform(train_df[cat_cols])\ntest_df[cat_cols] = cat_imputer.transform(test_df[cat_cols])",
      "metadata": {
        "trusted": true
      },
      "outputs": [],
      "execution_count": 26
    },
    {
      "id": "c07dd2da-cdc3-4ad3-8b23-3b12a39d234e",
      "cell_type": "code",
      "source": "num_imputer = SimpleImputer(strategy='mean')\nnum_imputer.fit(train_df[num_cols])\ntrain_df[num_cols] = num_imputer.transform(train_df[num_cols])\ntrain_df[num_cols] = num_imputer.transform(train_df[num_cols])",
      "metadata": {
        "trusted": true
      },
      "outputs": [],
      "execution_count": 29
    },
    {
      "id": "5e1eb48b-f00c-4a60-bb7d-3298dc2a6bdc",
      "cell_type": "code",
      "source": "train_df.isna().sum()",
      "metadata": {
        "trusted": true
      },
      "outputs": [
        {
          "execution_count": 30,
          "output_type": "execute_result",
          "data": {
            "text/plain": "Gender               0\nMarried              0\nDependents           0\nEducation            0\nSelf_Employed        0\nApplicantIncome      0\nCoapplicantIncome    0\nLoanAmount           0\nLoan_Amount_Term     0\nCredit_History       0\nProperty_Area        0\ndtype: int64"
          },
          "metadata": {}
        }
      ],
      "execution_count": 30
    },
    {
      "id": "60c906f0-1a48-4dc9-9ee5-b65da49d25a2",
      "cell_type": "code",
      "source": "#preprocessing as per the domain knowledge\ntrain_df['ApplicantIncome'] = train_df['ApplicantIncome'] + train_df['CoapplicantIncome']\ntest_df['ApplicantIncome'] = test_df['ApplicantIncome'] + test_df['CoapplicantIncome']\n\n#drop the co-applicant income column\ntrain_df.drop(columns ='CoapplicantIncome',inplace=True)\ntest_df.drop(columns='CoapplicantIncome',inplace=True)",
      "metadata": {
        "trusted": true
      },
      "outputs": [],
      "execution_count": 33
    },
    {
      "id": "8949996a-ab1d-4ec7-92b3-5745bfa5dcaa",
      "cell_type": "code",
      "source": "# Application of Label Encoder\ntrain_df.nunique()",
      "metadata": {
        "trusted": true
      },
      "outputs": [
        {
          "execution_count": 34,
          "output_type": "execute_result",
          "data": {
            "text/plain": "Gender                2\nMarried               2\nDependents            4\nEducation             2\nSelf_Employed         2\nApplicantIncome     583\nLoanAmount          204\nLoan_Amount_Term     11\nCredit_History        2\nProperty_Area         3\ndtype: int64"
          },
          "metadata": {}
        }
      ],
      "execution_count": 34
    },
    {
      "id": "c8d7a1e4-c4d6-474c-9f9a-6341ff0c7aad",
      "cell_type": "code",
      "source": "train_df.Dependents.unique()",
      "metadata": {
        "trusted": true
      },
      "outputs": [
        {
          "execution_count": 35,
          "output_type": "execute_result",
          "data": {
            "text/plain": "array(['0', '1', '2', '3+'], dtype=object)"
          },
          "metadata": {}
        }
      ],
      "execution_count": 35
    },
    {
      "id": "fffaed87-9865-4b9f-992a-08fdbee49c7e",
      "cell_type": "code",
      "source": "train_df.Property_Area.unique()",
      "metadata": {
        "trusted": true
      },
      "outputs": [
        {
          "execution_count": 36,
          "output_type": "execute_result",
          "data": {
            "text/plain": "array(['Urban', 'Rural', 'Semiurban'], dtype=object)"
          },
          "metadata": {}
        }
      ],
      "execution_count": 36
    },
    {
      "id": "0fb941c6-407c-4311-bd50-df7dd2e378a1",
      "cell_type": "code",
      "source": " for col in cat_cols:\n     le = LabelEncoder()\n     train_df[col] = le.fit_transform(train_df[col])\n     test_df[col] = le.fit_transform(test_df[col])",
      "metadata": {
        "trusted": true
      },
      "outputs": [],
      "execution_count": 37
    },
    {
      "id": "b557b62e-564a-4512-86d3-b164baef23bd",
      "cell_type": "code",
      "source": "train_df.head()",
      "metadata": {
        "trusted": true
      },
      "outputs": [
        {
          "execution_count": 38,
          "output_type": "execute_result",
          "data": {
            "text/plain": "   Gender  Married  Dependents  Education  Self_Employed  ApplicantIncome  \\\n0       1        0           0          0              0           5849.0   \n1       1        1           1          0              0           9107.0   \n2       1        1           0          0              1           3000.0   \n3       1        1           0          1              0           9657.0   \n4       1        0           0          0              0           6000.0   \n\n   LoanAmount  Loan_Amount_Term  Credit_History  Property_Area  \n0  146.412162             360.0               1              2  \n1  128.000000             360.0               1              0  \n2   66.000000             360.0               1              2  \n3  120.000000             360.0               1              2  \n4  141.000000             360.0               1              2  ",
            "text/html": "<div>\n<style scoped>\n    .dataframe tbody tr th:only-of-type {\n        vertical-align: middle;\n    }\n\n    .dataframe tbody tr th {\n        vertical-align: top;\n    }\n\n    .dataframe thead th {\n        text-align: right;\n    }\n</style>\n<table border=\"1\" class=\"dataframe\">\n  <thead>\n    <tr style=\"text-align: right;\">\n      <th></th>\n      <th>Gender</th>\n      <th>Married</th>\n      <th>Dependents</th>\n      <th>Education</th>\n      <th>Self_Employed</th>\n      <th>ApplicantIncome</th>\n      <th>LoanAmount</th>\n      <th>Loan_Amount_Term</th>\n      <th>Credit_History</th>\n      <th>Property_Area</th>\n    </tr>\n  </thead>\n  <tbody>\n    <tr>\n      <th>0</th>\n      <td>1</td>\n      <td>0</td>\n      <td>0</td>\n      <td>0</td>\n      <td>0</td>\n      <td>5849.0</td>\n      <td>146.412162</td>\n      <td>360.0</td>\n      <td>1</td>\n      <td>2</td>\n    </tr>\n    <tr>\n      <th>1</th>\n      <td>1</td>\n      <td>1</td>\n      <td>1</td>\n      <td>0</td>\n      <td>0</td>\n      <td>9107.0</td>\n      <td>128.000000</td>\n      <td>360.0</td>\n      <td>1</td>\n      <td>0</td>\n    </tr>\n    <tr>\n      <th>2</th>\n      <td>1</td>\n      <td>1</td>\n      <td>0</td>\n      <td>0</td>\n      <td>1</td>\n      <td>3000.0</td>\n      <td>66.000000</td>\n      <td>360.0</td>\n      <td>1</td>\n      <td>2</td>\n    </tr>\n    <tr>\n      <th>3</th>\n      <td>1</td>\n      <td>1</td>\n      <td>0</td>\n      <td>1</td>\n      <td>0</td>\n      <td>9657.0</td>\n      <td>120.000000</td>\n      <td>360.0</td>\n      <td>1</td>\n      <td>2</td>\n    </tr>\n    <tr>\n      <th>4</th>\n      <td>1</td>\n      <td>0</td>\n      <td>0</td>\n      <td>0</td>\n      <td>0</td>\n      <td>6000.0</td>\n      <td>141.000000</td>\n      <td>360.0</td>\n      <td>1</td>\n      <td>2</td>\n    </tr>\n  </tbody>\n</table>\n</div>"
          },
          "metadata": {}
        }
      ],
      "execution_count": 38
    },
    {
      "id": "b78dba6e-7a06-4a70-a7da-7bc96b0a1426",
      "cell_type": "code",
      "source": "num_cols = ['ApplicantIncome', 'LoanAmount','Loan_Amount_Term']",
      "metadata": {
        "trusted": true
      },
      "outputs": [],
      "execution_count": 40
    },
    {
      "id": "5c4d85ef-3182-437e-8489-66f79ed53d07",
      "cell_type": "code",
      "source": "#log transformation\ntrain_df[num_cols] = np.log(train_df[num_cols])\ntest_df[num_cols] = np.log(test_df[num_cols])",
      "metadata": {
        "trusted": true
      },
      "outputs": [],
      "execution_count": 42
    },
    {
      "id": "6f69d2d8-7795-49b6-ad56-626916647868",
      "cell_type": "code",
      "source": "minmax = MinMaxScaler()\ntrain_df = minmax.fit_transform(train_df)\ntest_df = minmax.fit_transform(test_df)",
      "metadata": {
        "trusted": true
      },
      "outputs": [],
      "execution_count": 43
    },
    {
      "id": "182ba1a2-e40f-43f2-b10b-10ee3a5592bf",
      "cell_type": "code",
      "source": "# building the model\nfrom sklearn.model_selection import train_test_split\n\nX_train, X_test, y_train, y_test = train_test_split(train_df, train_y, test_size=0.3, random_state = 0)",
      "metadata": {
        "trusted": true
      },
      "outputs": [],
      "execution_count": 44
    },
    {
      "id": "9081c66a-23d8-4e41-b7ef-155c17b6aff5",
      "cell_type": "code",
      "source": "from sklearn.linear_model import LogisticRegression\nlog = LogisticRegression()\nlog.fit(X_train,y_train)",
      "metadata": {
        "trusted": true
      },
      "outputs": [
        {
          "execution_count": 46,
          "output_type": "execute_result",
          "data": {
            "text/plain": "LogisticRegression()",
            "text/html": "<style>#sk-container-id-1 {color: black;}#sk-container-id-1 pre{padding: 0;}#sk-container-id-1 div.sk-toggleable {background-color: white;}#sk-container-id-1 label.sk-toggleable__label {cursor: pointer;display: block;width: 100%;margin-bottom: 0;padding: 0.3em;box-sizing: border-box;text-align: center;}#sk-container-id-1 label.sk-toggleable__label-arrow:before {content: \"▸\";float: left;margin-right: 0.25em;color: #696969;}#sk-container-id-1 label.sk-toggleable__label-arrow:hover:before {color: black;}#sk-container-id-1 div.sk-estimator:hover label.sk-toggleable__label-arrow:before {color: black;}#sk-container-id-1 div.sk-toggleable__content {max-height: 0;max-width: 0;overflow: hidden;text-align: left;background-color: #f0f8ff;}#sk-container-id-1 div.sk-toggleable__content pre {margin: 0.2em;color: black;border-radius: 0.25em;background-color: #f0f8ff;}#sk-container-id-1 input.sk-toggleable__control:checked~div.sk-toggleable__content {max-height: 200px;max-width: 100%;overflow: auto;}#sk-container-id-1 input.sk-toggleable__control:checked~label.sk-toggleable__label-arrow:before {content: \"▾\";}#sk-container-id-1 div.sk-estimator input.sk-toggleable__control:checked~label.sk-toggleable__label {background-color: #d4ebff;}#sk-container-id-1 div.sk-label input.sk-toggleable__control:checked~label.sk-toggleable__label {background-color: #d4ebff;}#sk-container-id-1 input.sk-hidden--visually {border: 0;clip: rect(1px 1px 1px 1px);clip: rect(1px, 1px, 1px, 1px);height: 1px;margin: -1px;overflow: hidden;padding: 0;position: absolute;width: 1px;}#sk-container-id-1 div.sk-estimator {font-family: monospace;background-color: #f0f8ff;border: 1px dotted black;border-radius: 0.25em;box-sizing: border-box;margin-bottom: 0.5em;}#sk-container-id-1 div.sk-estimator:hover {background-color: #d4ebff;}#sk-container-id-1 div.sk-parallel-item::after {content: \"\";width: 100%;border-bottom: 1px solid gray;flex-grow: 1;}#sk-container-id-1 div.sk-label:hover label.sk-toggleable__label {background-color: #d4ebff;}#sk-container-id-1 div.sk-serial::before {content: \"\";position: absolute;border-left: 1px solid gray;box-sizing: border-box;top: 0;bottom: 0;left: 50%;z-index: 0;}#sk-container-id-1 div.sk-serial {display: flex;flex-direction: column;align-items: center;background-color: white;padding-right: 0.2em;padding-left: 0.2em;position: relative;}#sk-container-id-1 div.sk-item {position: relative;z-index: 1;}#sk-container-id-1 div.sk-parallel {display: flex;align-items: stretch;justify-content: center;background-color: white;position: relative;}#sk-container-id-1 div.sk-item::before, #sk-container-id-1 div.sk-parallel-item::before {content: \"\";position: absolute;border-left: 1px solid gray;box-sizing: border-box;top: 0;bottom: 0;left: 50%;z-index: -1;}#sk-container-id-1 div.sk-parallel-item {display: flex;flex-direction: column;z-index: 1;position: relative;background-color: white;}#sk-container-id-1 div.sk-parallel-item:first-child::after {align-self: flex-end;width: 50%;}#sk-container-id-1 div.sk-parallel-item:last-child::after {align-self: flex-start;width: 50%;}#sk-container-id-1 div.sk-parallel-item:only-child::after {width: 0;}#sk-container-id-1 div.sk-dashed-wrapped {border: 1px dashed gray;margin: 0 0.4em 0.5em 0.4em;box-sizing: border-box;padding-bottom: 0.4em;background-color: white;}#sk-container-id-1 div.sk-label label {font-family: monospace;font-weight: bold;display: inline-block;line-height: 1.2em;}#sk-container-id-1 div.sk-label-container {text-align: center;}#sk-container-id-1 div.sk-container {/* jupyter's `normalize.less` sets `[hidden] { display: none; }` but bootstrap.min.css set `[hidden] { display: none !important; }` so we also need the `!important` here to be able to override the default hidden behavior on the sphinx rendered scikit-learn.org. See: https://github.com/scikit-learn/scikit-learn/issues/21755 */display: inline-block !important;position: relative;}#sk-container-id-1 div.sk-text-repr-fallback {display: none;}</style><div id=\"sk-container-id-1\" class=\"sk-top-container\"><div class=\"sk-text-repr-fallback\"><pre>LogisticRegression()</pre><b>In a Jupyter environment, please rerun this cell to show the HTML representation or trust the notebook. <br />On GitHub, the HTML representation is unable to render, please try loading this page with nbviewer.org.</b></div><div class=\"sk-container\" hidden><div class=\"sk-item\"><div class=\"sk-estimator sk-toggleable\"><input class=\"sk-toggleable__control sk-hidden--visually\" id=\"sk-estimator-id-1\" type=\"checkbox\" checked><label for=\"sk-estimator-id-1\" class=\"sk-toggleable__label sk-toggleable__label-arrow\">LogisticRegression</label><div class=\"sk-toggleable__content\"><pre>LogisticRegression()</pre></div></div></div></div></div>"
          },
          "metadata": {}
        }
      ],
      "execution_count": 46
    },
    {
      "id": "9ebabba3-4c81-4f36-aeb1-dfcaf70451ae",
      "cell_type": "code",
      "source": "y_pred_test = log.predict(X_test)",
      "metadata": {
        "trusted": true
      },
      "outputs": [],
      "execution_count": 47
    },
    {
      "id": "c4aacee7-6e9b-4578-ada0-bbb82d2b0bfa",
      "cell_type": "code",
      "source": "from sklearn.metrics import accuracy_score\nacc = accuracy_score(y_test,y_pred_test)\nprint(f'Accuracy is {acc}')",
      "metadata": {
        "trusted": true
      },
      "outputs": [
        {
          "name": "stdout",
          "text": "Accuracy is 0.827027027027027\n",
          "output_type": "stream"
        }
      ],
      "execution_count": 48
    },
    {
      "id": "a2ea6db0-4afe-4fe0-9a81-09d76d67b999",
      "cell_type": "code",
      "source": "# serialization & de-serialization\nimport joblib\njoblib.dump(log,'my_trained_model_v1.pkl') ",
      "metadata": {
        "trusted": true
      },
      "outputs": [],
      "execution_count": null
    },
    {
      "id": "c0c3a5b8-c6d7-44c8-a22a-86329a647eba",
      "cell_type": "code",
      "source": "",
      "metadata": {
        "trusted": true
      },
      "outputs": [],
      "execution_count": null
    },
    {
      "id": "621b6c01-6116-4388-8dfa-f7b101cca2ec",
      "cell_type": "code",
      "source": "",
      "metadata": {
        "trusted": true
      },
      "outputs": [],
      "execution_count": null
    },
    {
      "id": "f59f30e8-f028-4e4b-9661-59a21cb28ba8",
      "cell_type": "code",
      "source": "",
      "metadata": {
        "trusted": true
      },
      "outputs": [],
      "execution_count": null
    },
    {
      "id": "2a968ebd-23fc-4879-97b7-bc75198f5064",
      "cell_type": "code",
      "source": "",
      "metadata": {
        "trusted": true
      },
      "outputs": [],
      "execution_count": null
    },
    {
      "id": "3a454988-e90a-4700-96d0-35cf744e09ca",
      "cell_type": "code",
      "source": "",
      "metadata": {
        "trusted": true
      },
      "outputs": [],
      "execution_count": null
    },
    {
      "id": "011e9a07-e1ca-49a0-88d7-ea39aaff6a34",
      "cell_type": "code",
      "source": "",
      "metadata": {
        "trusted": true
      },
      "outputs": [],
      "execution_count": null
    },
    {
      "id": "33a76c19-e08b-4aa2-a9bc-e925de7db57a",
      "cell_type": "code",
      "source": "",
      "metadata": {
        "trusted": true
      },
      "outputs": [],
      "execution_count": null
    },
    {
      "id": "a5407e1e-0f07-4b0b-80c2-6389336091a2",
      "cell_type": "code",
      "source": "",
      "metadata": {
        "trusted": true
      },
      "outputs": [],
      "execution_count": null
    },
    {
      "id": "4483819a-c9d7-4705-9e15-9f78d7bea89c",
      "cell_type": "code",
      "source": "",
      "metadata": {
        "trusted": true
      },
      "outputs": [],
      "execution_count": null
    }
  ]
}